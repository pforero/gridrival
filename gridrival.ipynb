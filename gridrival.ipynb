{
 "metadata": {
  "language_info": {
   "codemirror_mode": {
    "name": "ipython",
    "version": 3
   },
   "file_extension": ".py",
   "mimetype": "text/x-python",
   "name": "python",
   "nbconvert_exporter": "python",
   "pygments_lexer": "ipython3",
   "version": "3.7.7-final"
  },
  "orig_nbformat": 2,
  "kernelspec": {
   "name": "python3",
   "display_name": "Python 3",
   "language": "python"
  }
 },
 "nbformat": 4,
 "nbformat_minor": 2,
 "cells": [
  {
   "source": [
    "# Grid Rival"
   ],
   "cell_type": "markdown",
   "metadata": {}
  },
  {
   "cell_type": "code",
   "execution_count": 126,
   "metadata": {},
   "outputs": [],
   "source": [
    "import copy\n",
    "from itertools import combinations, product\n",
    "import pandas as pd"
   ]
  },
  {
   "source": [
    "## Drivers"
   ],
   "cell_type": "markdown",
   "metadata": {}
  },
  {
   "cell_type": "code",
   "execution_count": 34,
   "metadata": {},
   "outputs": [],
   "source": [
    "drivers = [\n",
    "    {\n",
    "        \"name\": \"L. Hamilton\",\n",
    "        \"team\": \"MER\",\n",
    "        \"cost\": 30\n",
    "    },\n",
    "    {\n",
    "        \"name\": \"M. Verstappen\",\n",
    "        \"team\": \"RBR\",\n",
    "        \"cost\": 28.7\n",
    "    },\n",
    "    {\n",
    "        \"name\": \"V. Bottas\",\n",
    "        \"team\": \"MER\",\n",
    "        \"cost\": 27.4\n",
    "    },\n",
    "    {\n",
    "        \"name\": \"S. Perez\",\n",
    "        \"team\": \"RBR\",\n",
    "        \"cost\": 26.1\n",
    "    },\n",
    "    {\n",
    "        \"name\": \"D. Ricciardo\",\n",
    "        \"team\": \"MCL\",\n",
    "        \"cost\": 24.8\n",
    "    },\n",
    "    {\n",
    "        \"name\": \"F. Alonso\",\n",
    "        \"team\": \"ALP\",\n",
    "        \"cost\": 23.5\n",
    "    },\n",
    "    {\n",
    "        \"name\": \"L. Norris\",\n",
    "        \"team\": \"MCL\",\n",
    "        \"cost\": 22.2\n",
    "    },{\n",
    "        \"name\": \"C. Leclerc\",\n",
    "        \"team\": \"FER\",\n",
    "        \"cost\": 20.9\n",
    "    },\n",
    "    {\n",
    "        \"name\": \"S. Vettel\",\n",
    "        \"team\": \"AMR\",\n",
    "        \"cost\": 19.6\n",
    "    },\n",
    "    {\n",
    "        \"name\": \"C. Sainz Jr\",\n",
    "        \"team\": \"FER\",\n",
    "        \"cost\": 18.3\n",
    "    },\n",
    "    {\n",
    "        \"name\": \"L. Stroll\",\n",
    "        \"team\": \"AMR\",\n",
    "        \"cost\": 17.0\n",
    "    },\n",
    "    {\n",
    "        \"name\": \"P. Gasly\",\n",
    "        \"team\": \"TOR\",\n",
    "        \"cost\": 15.7\n",
    "    },\n",
    "    {\n",
    "        \"name\": \"E. Ocon\",\n",
    "        \"team\": \"ALP\",\n",
    "        \"cost\": 14.4\n",
    "    },\n",
    "    {\n",
    "        \"name\": \"K. Raikkonen\",\n",
    "        \"team\": \"ALF\",\n",
    "        \"cost\": 13.1\n",
    "    },\n",
    "    {\n",
    "        \"name\": \"Y. Tsunoda\",\n",
    "        \"team\": \"TOR\",\n",
    "        \"cost\": 11.8\n",
    "    },\n",
    "    {\n",
    "        \"name\": \"A. Giovinazzi\",\n",
    "        \"team\": \"ALF\",\n",
    "        \"cost\": 10.5\n",
    "    },\n",
    "    {\n",
    "        \"name\": \"G. Russell\",\n",
    "        \"team\": \"WIL\",\n",
    "        \"cost\": 9.2\n",
    "    },{\n",
    "        \"name\": \"N. Latifi\",\n",
    "        \"team\": \"WIL\",\n",
    "        \"cost\": 7.9\n",
    "    },\n",
    "    {\n",
    "        \"name\": \"M. Schumacher\",\n",
    "        \"team\": \"HAS\",\n",
    "        \"cost\": 6.6\n",
    "    },\n",
    "    {\n",
    "        \"name\": \"N. Mazepin\",\n",
    "        \"team\": \"HAS\",\n",
    "        \"cost\": 5.3\n",
    "    },\n",
    "]"
   ]
  },
  {
   "source": [
    "## Teams"
   ],
   "cell_type": "markdown",
   "metadata": {}
  },
  {
   "cell_type": "code",
   "execution_count": 35,
   "metadata": {},
   "outputs": [],
   "source": [
    "constructors = [\n",
    "    {\n",
    "        \"name\": \"Mercedes\",\n",
    "        \"team\": \"MER\",\n",
    "        \"cost\": 30\n",
    "    },\n",
    "    {\n",
    "        \"name\": \"Red Bull\",\n",
    "        \"team\": \"RBR\",\n",
    "        \"cost\": 27.2\n",
    "    },\n",
    "    {\n",
    "        \"name\": \"McLaren\",\n",
    "        \"team\": \"MCL\",\n",
    "        \"cost\": 24.4\n",
    "    },\n",
    "    {\n",
    "        \"name\": \"Aston Martin\",\n",
    "        \"team\": \"AMR\",\n",
    "        \"cost\": 21.6\n",
    "    },\n",
    "    {\n",
    "        \"name\": \"Alpine\",\n",
    "        \"team\": \"ALP\",\n",
    "        \"cost\": 18.8\n",
    "    },\n",
    "    {\n",
    "        \"name\": \"Ferrari\",\n",
    "        \"team\": \"FER\",\n",
    "        \"cost\": 16.0\n",
    "    },\n",
    "    {\n",
    "        \"name\": \"AlphaTauri\",\n",
    "        \"team\": \"TOR\",\n",
    "        \"cost\": 13.2\n",
    "    },{\n",
    "        \"name\": \"Alfa Romeo\",\n",
    "        \"team\": \"ALF\",\n",
    "        \"cost\": 10.4\n",
    "    },\n",
    "    {\n",
    "        \"name\": \"Haas\",\n",
    "        \"team\": \"HAS\",\n",
    "        \"cost\": 7.6\n",
    "    },\n",
    "    {\n",
    "        \"name\": \"Williams\",\n",
    "        \"team\": \"WIL\",\n",
    "        \"cost\": 4.8\n",
    "    },\n",
    "]"
   ]
  },
  {
   "source": [
    "# Points"
   ],
   "cell_type": "markdown",
   "metadata": {}
  },
  {
   "source": [
    "## Qualifying"
   ],
   "cell_type": "markdown",
   "metadata": {}
  },
  {
   "source": [
    "### Drivers"
   ],
   "cell_type": "markdown",
   "metadata": {}
  },
  {
   "cell_type": "code",
   "execution_count": 94,
   "metadata": {},
   "outputs": [],
   "source": [
    "qual_drivers = {i: 52-(i * 2) for i in range(1,21)}\n",
    "df_qual_drivers = pd.Series(qual_drivers)"
   ]
  },
  {
   "source": [
    "### Constructors"
   ],
   "cell_type": "markdown",
   "metadata": {}
  },
  {
   "cell_type": "code",
   "execution_count": 95,
   "metadata": {},
   "outputs": [],
   "source": [
    "qual_teams = {i: 31-i for i in range(1,21)}\n",
    "df_qual_teams = pd.Series(qual_teams)"
   ]
  },
  {
   "source": [
    "## Race"
   ],
   "cell_type": "markdown",
   "metadata": {}
  },
  {
   "source": [
    "### Drivers"
   ],
   "cell_type": "markdown",
   "metadata": {}
  },
  {
   "cell_type": "code",
   "execution_count": 96,
   "metadata": {},
   "outputs": [],
   "source": [
    "race_drivers = {i: 103-(i * 3) for i in range(1,21)}\n",
    "df_race_drivers = pd.Series(race_drivers)"
   ]
  },
  {
   "source": [
    "### Constructors"
   ],
   "cell_type": "markdown",
   "metadata": {}
  },
  {
   "cell_type": "code",
   "execution_count": 97,
   "metadata": {},
   "outputs": [],
   "source": [
    "race_teams = {i: 62-(i * 2) for i in range(1,21)}\n",
    "df_race_teams = pd.Series(race_teams)"
   ]
  },
  {
   "source": [
    "# Valuation"
   ],
   "cell_type": "markdown",
   "metadata": {}
  },
  {
   "source": [
    "## Buy All - Single Race"
   ],
   "cell_type": "markdown",
   "metadata": {}
  },
  {
   "cell_type": "code",
   "execution_count": 37,
   "metadata": {},
   "outputs": [],
   "source": [
    "total_cost_drivers = sum([driver[\"cost\"] for driver in drivers])\n",
    "total_cost_teams = sum([team[\"cost\"] for team in constructors])"
   ]
  },
  {
   "source": [
    "total_qual_drivers = sum([i for i in qual_drivers.values()])\n",
    "total_qual_teams = sum([i for i in qual_teams.values()])\n",
    "total_race_drivers = sum([i for i in race_drivers.values()])\n",
    "total_race_teams = sum([i for i in race_teams.values()])"
   ],
   "cell_type": "code",
   "metadata": {},
   "execution_count": 63,
   "outputs": []
  },
  {
   "cell_type": "code",
   "execution_count": 64,
   "metadata": {},
   "outputs": [],
   "source": [
    "total_drivers = total_qual_drivers + total_race_drivers\n",
    "total_teams = total_qual_teams + total_race_teams"
   ]
  },
  {
   "cell_type": "code",
   "execution_count": 70,
   "metadata": {},
   "outputs": [],
   "source": [
    "cost_per_point_drivers = (total_cost_drivers * 1e6) / total_drivers\n",
    "cost_per_point_teams = (total_cost_teams * 1e6) / total_teams"
   ]
  },
  {
   "cell_type": "code",
   "execution_count": 75,
   "metadata": {},
   "outputs": [
    {
     "output_type": "execute_result",
     "data": {
      "text/plain": [
       "172195.1219512195"
      ]
     },
     "metadata": {},
     "execution_count": 75
    }
   ],
   "source": [
    "cost_per_point_drivers"
   ]
  },
  {
   "cell_type": "code",
   "execution_count": 76,
   "metadata": {},
   "outputs": [
    {
     "output_type": "execute_result",
     "data": {
      "text/plain": [
       "141463.41463414635"
      ]
     },
     "metadata": {},
     "execution_count": 76
    }
   ],
   "source": [
    "cost_per_point_teams"
   ]
  },
  {
   "source": [
    "# Deterministic Position"
   ],
   "cell_type": "markdown",
   "metadata": {}
  },
  {
   "source": [
    "## Build Probabilities"
   ],
   "cell_type": "markdown",
   "metadata": {}
  },
  {
   "cell_type": "code",
   "execution_count": 165,
   "metadata": {},
   "outputs": [],
   "source": [
    "prob_0 = {i: 0 for i in range(1,21)}\n",
    "probabilities_det = []\n",
    "for pos, driver in enumerate(drivers):\n",
    "    probs = copy.copy(prob_0)\n",
    "    probs[pos+1] = 1\n",
    "    res = copy.copy(driver)\n",
    "    res[\"prob\"] = pd.Series(probs)\n",
    "    probabilities_det.append(res)"
   ]
  },
  {
   "source": [
    "## Results"
   ],
   "cell_type": "markdown",
   "metadata": {}
  },
  {
   "source": [
    "### Drivers"
   ],
   "cell_type": "markdown",
   "metadata": {}
  },
  {
   "cell_type": "code",
   "execution_count": 166,
   "metadata": {},
   "outputs": [],
   "source": [
    "drivers_det = []\n",
    "for driver in probabilities_det:\n",
    "    qual = sum(df_qual_drivers * driver[\"prob\"])\n",
    "    race = sum(df_race_drivers * driver[\"prob\"])\n",
    "    total = qual + race\n",
    "    res = copy.copy(driver)\n",
    "    res[\"qual\"] = qual\n",
    "    res[\"race\"] = race\n",
    "    res[\"points\"] = total\n",
    "    drivers_det.append(res)"
   ]
  },
  {
   "cell_type": "code",
   "execution_count": 167,
   "metadata": {},
   "outputs": [],
   "source": [
    "cost_per_point_driver_det = []\n",
    "for driver in drivers_det:\n",
    "    res = {\n",
    "        \"name\": driver[\"name\"],\n",
    "        \"team\": driver[\"team\"],\n",
    "        \"cost_per_point\": (driver[\"cost\"]*1e6) / driver[\"points\"]\n",
    "    }\n",
    "    cost_per_point_driver_det.append(res)"
   ]
  },
  {
   "cell_type": "code",
   "execution_count": 168,
   "metadata": {},
   "outputs": [
    {
     "output_type": "execute_result",
     "data": {
      "text/plain": [
       "[{'name': 'L. Hamilton', 'team': 'MER', 'cost_per_point': 200000.0},\n",
       " {'name': 'M. Verstappen', 'team': 'RBR', 'cost_per_point': 197931.0344827586},\n",
       " {'name': 'V. Bottas', 'team': 'MER', 'cost_per_point': 195714.2857142857},\n",
       " {'name': 'S. Perez', 'team': 'RBR', 'cost_per_point': 193333.33333333334},\n",
       " {'name': 'D. Ricciardo', 'team': 'MCL', 'cost_per_point': 190769.23076923078},\n",
       " {'name': 'F. Alonso', 'team': 'ALP', 'cost_per_point': 188000.0},\n",
       " {'name': 'L. Norris', 'team': 'MCL', 'cost_per_point': 185000.0},\n",
       " {'name': 'C. Leclerc', 'team': 'FER', 'cost_per_point': 181739.13043478262},\n",
       " {'name': 'S. Vettel', 'team': 'AMR', 'cost_per_point': 178181.81818181818},\n",
       " {'name': 'C. Sainz Jr', 'team': 'FER', 'cost_per_point': 174285.7142857143},\n",
       " {'name': 'L. Stroll', 'team': 'AMR', 'cost_per_point': 170000.0},\n",
       " {'name': 'P. Gasly', 'team': 'TOR', 'cost_per_point': 165263.15789473685},\n",
       " {'name': 'E. Ocon', 'team': 'ALP', 'cost_per_point': 160000.0},\n",
       " {'name': 'K. Raikkonen', 'team': 'ALF', 'cost_per_point': 154117.64705882352},\n",
       " {'name': 'Y. Tsunoda', 'team': 'TOR', 'cost_per_point': 147500.0},\n",
       " {'name': 'A. Giovinazzi', 'team': 'ALF', 'cost_per_point': 140000.0},\n",
       " {'name': 'G. Russell', 'team': 'WIL', 'cost_per_point': 131428.57142857142},\n",
       " {'name': 'N. Latifi', 'team': 'WIL', 'cost_per_point': 121538.46153846153},\n",
       " {'name': 'M. Schumacher', 'team': 'HAS', 'cost_per_point': 110000.0},\n",
       " {'name': 'N. Mazepin', 'team': 'HAS', 'cost_per_point': 96363.63636363637}]"
      ]
     },
     "metadata": {},
     "execution_count": 168
    }
   ],
   "source": [
    "cost_per_point_driver_det"
   ]
  },
  {
   "source": [
    "#### Teams"
   ],
   "cell_type": "markdown",
   "metadata": {}
  },
  {
   "cell_type": "code",
   "execution_count": 169,
   "metadata": {},
   "outputs": [],
   "source": [
    "teams_det = []\n",
    "for team in constructors:\n",
    "    qual = sum([driver[\"qual\"] for driver in drivers_det if driver[\"team\"] == team[\"team\"]])\n",
    "    race = sum([driver[\"race\"] for driver in drivers_det if driver[\"team\"] == team[\"team\"]])\n",
    "    points = qual + race\n",
    "    res = copy.copy(team)\n",
    "    res[\"qual\"] = qual\n",
    "    res[\"race\"] = race\n",
    "    res[\"points\"] = points\n",
    "    teams_det.append(res)"
   ]
  },
  {
   "cell_type": "code",
   "execution_count": 170,
   "metadata": {},
   "outputs": [],
   "source": [
    "cost_per_point_team_det = []\n",
    "for team in teams_det:\n",
    "    res = {\n",
    "        \"name\": team[\"name\"],\n",
    "        \"team\": team[\"team\"],\n",
    "        \"cost_per_point\": (team[\"cost\"]*1e6) / team[\"points\"]\n",
    "    }\n",
    "    cost_per_point_team_det.append(res)"
   ]
  },
  {
   "cell_type": "code",
   "execution_count": 171,
   "metadata": {},
   "outputs": [
    {
     "output_type": "execute_result",
     "data": {
      "text/plain": [
       "[{'name': 'Mercedes', 'team': 'MER', 'cost_per_point': 103448.27586206897},\n",
       " {'name': 'Red Bull', 'team': 'RBR', 'cost_per_point': 97142.85714285714},\n",
       " {'name': 'McLaren', 'team': 'MCL', 'cost_per_point': 97600.0},\n",
       " {'name': 'Aston Martin', 'team': 'AMR', 'cost_per_point': 102857.14285714286},\n",
       " {'name': 'Alpine', 'team': 'ALP', 'cost_per_point': 87441.86046511628},\n",
       " {'name': 'Ferrari', 'team': 'FER', 'cost_per_point': 72727.27272727272},\n",
       " {'name': 'AlphaTauri', 'team': 'TOR', 'cost_per_point': 75428.57142857143},\n",
       " {'name': 'Alfa Romeo', 'team': 'ALF', 'cost_per_point': 65000.0},\n",
       " {'name': 'Haas', 'team': 'HAS', 'cost_per_point': 66086.95652173914},\n",
       " {'name': 'Williams', 'team': 'WIL', 'cost_per_point': 35555.555555555555}]"
      ]
     },
     "metadata": {},
     "execution_count": 171
    }
   ],
   "source": [
    "cost_per_point_team_det"
   ]
  },
  {
   "source": [
    "## Set-ups"
   ],
   "cell_type": "markdown",
   "metadata": {}
  },
  {
   "cell_type": "code",
   "execution_count": 180,
   "metadata": {
    "tags": []
   },
   "outputs": [],
   "source": [
    "driver_comb = combinations(drivers_det,5)\n",
    "team_comb = combinations(teams_det,1)"
   ]
  },
  {
   "cell_type": "code",
   "execution_count": 181,
   "metadata": {},
   "outputs": [],
   "source": [
    "all_comb = product(driver_comb, team_comb)"
   ]
  },
  {
   "cell_type": "code",
   "execution_count": 182,
   "metadata": {
    "tags": []
   },
   "outputs": [],
   "source": [
    "setup_cost = []\n",
    "for setup in all_comb:\n",
    "    driver_cost = sum([element[\"cost\"] for element in setup[0]])\n",
    "    team_cost = sum([element[\"cost\"] for element in setup[1]])\n",
    "    cost = driver_cost + team_cost\n",
    "\n",
    "    driver_points = sum([element[\"points\"] for element in setup[0]])\n",
    "    team_points = sum([element[\"points\"] for element in setup[1]])\n",
    "    points = driver_points + team_points\n",
    "\n",
    "    driver = [element[\"name\"] for element in setup[0]]\n",
    "    team = [element[\"name\"] for element in setup[1]]\n",
    "\n",
    "    res = {\"setup\": driver+team, \"cost\": cost, \"points\": points}\n",
    "    setup_cost.append(res)"
   ]
  },
  {
   "cell_type": "code",
   "execution_count": 183,
   "metadata": {},
   "outputs": [
    {
     "output_type": "execute_result",
     "data": {
      "text/plain": [
       "{'setup': ['L. Hamilton',\n",
       "  'M. Verstappen',\n",
       "  'V. Bottas',\n",
       "  'S. Perez',\n",
       "  'D. Ricciardo',\n",
       "  'Mercedes'],\n",
       " 'cost': 167.0,\n",
       " 'points': 990}"
      ]
     },
     "metadata": {},
     "execution_count": 183
    }
   ],
   "source": [
    "setup_cost[0]"
   ]
  },
  {
   "cell_type": "code",
   "execution_count": 184,
   "metadata": {},
   "outputs": [],
   "source": [
    "possible_comb = [comb for comb in setup_cost if comb[\"cost\"]<=100]"
   ]
  },
  {
   "cell_type": "code",
   "execution_count": 186,
   "metadata": {},
   "outputs": [
    {
     "output_type": "execute_result",
     "data": {
      "text/plain": [
       "155040"
      ]
     },
     "metadata": {},
     "execution_count": 186
    }
   ],
   "source": [
    "len(setup_cost)"
   ]
  },
  {
   "cell_type": "code",
   "execution_count": 187,
   "metadata": {},
   "outputs": [
    {
     "output_type": "execute_result",
     "data": {
      "text/plain": [
       "57580"
      ]
     },
     "metadata": {},
     "execution_count": 187
    }
   ],
   "source": [
    "len(possible_comb)"
   ]
  },
  {
   "cell_type": "code",
   "execution_count": 211,
   "metadata": {},
   "outputs": [],
   "source": [
    "df = pd.DataFrame(setup_cost)\n",
    "df[[\"driver_1\", \"driver_2\", \"driver_3\", \"driver_4\", \"driver_5\", \"constructor\"]] = pd.DataFrame(df[\"setup\"].to_list(), index=df.index)\n",
    "df.drop(\"setup\", axis=1, inplace=True)"
   ]
  },
  {
   "cell_type": "code",
   "execution_count": 212,
   "metadata": {},
   "outputs": [
    {
     "output_type": "execute_result",
     "data": {
      "text/plain": [
       "        cost  points      driver_1     driver_2       driver_3       driver_4  \\\n",
       "109880  99.4     730      S. Perez    L. Stroll   K. Raikkonen      N. Latifi   \n",
       "109161  99.2     730      S. Perez  C. Sainz Jr  A. Giovinazzi     G. Russell   \n",
       "109180  99.4     730      S. Perez  C. Sainz Jr  A. Giovinazzi     G. Russell   \n",
       "109190  99.4     730      S. Perez  C. Sainz Jr  A. Giovinazzi      N. Latifi   \n",
       "150580  99.4     730   C. Sainz Jr    L. Stroll       P. Gasly     Y. Tsunoda   \n",
       "...      ...     ...           ...          ...            ...            ...   \n",
       "121621  97.9     725  D. Ricciardo    S. Vettel  A. Giovinazzi     G. Russell   \n",
       "141171  97.9     725     L. Norris     P. Gasly   K. Raikkonen  A. Giovinazzi   \n",
       "121571  97.9     725  D. Ricciardo    S. Vettel     Y. Tsunoda     G. Russell   \n",
       "150731  97.9     725   C. Sainz Jr    L. Stroll        E. Ocon   K. Raikkonen   \n",
       "121581  97.9     725  D. Ricciardo    S. Vettel     Y. Tsunoda      N. Latifi   \n",
       "\n",
       "             driver_5 constructor  \n",
       "109880     N. Mazepin    Mercedes  \n",
       "109161      N. Latifi    Red Bull  \n",
       "109180     N. Mazepin    Mercedes  \n",
       "109190  M. Schumacher    Mercedes  \n",
       "150580  M. Schumacher    Mercedes  \n",
       "...               ...         ...  \n",
       "121621  M. Schumacher    Red Bull  \n",
       "141171     G. Russell    Red Bull  \n",
       "121571     N. Mazepin    Red Bull  \n",
       "150731      N. Latifi    Red Bull  \n",
       "121581  M. Schumacher    Red Bull  \n",
       "\n",
       "[1000 rows x 8 columns]"
      ],
      "text/html": "<div>\n<style scoped>\n    .dataframe tbody tr th:only-of-type {\n        vertical-align: middle;\n    }\n\n    .dataframe tbody tr th {\n        vertical-align: top;\n    }\n\n    .dataframe thead th {\n        text-align: right;\n    }\n</style>\n<table border=\"1\" class=\"dataframe\">\n  <thead>\n    <tr style=\"text-align: right;\">\n      <th></th>\n      <th>cost</th>\n      <th>points</th>\n      <th>driver_1</th>\n      <th>driver_2</th>\n      <th>driver_3</th>\n      <th>driver_4</th>\n      <th>driver_5</th>\n      <th>constructor</th>\n    </tr>\n  </thead>\n  <tbody>\n    <tr>\n      <th>109880</th>\n      <td>99.4</td>\n      <td>730</td>\n      <td>S. Perez</td>\n      <td>L. Stroll</td>\n      <td>K. Raikkonen</td>\n      <td>N. Latifi</td>\n      <td>N. Mazepin</td>\n      <td>Mercedes</td>\n    </tr>\n    <tr>\n      <th>109161</th>\n      <td>99.2</td>\n      <td>730</td>\n      <td>S. Perez</td>\n      <td>C. Sainz Jr</td>\n      <td>A. Giovinazzi</td>\n      <td>G. Russell</td>\n      <td>N. Latifi</td>\n      <td>Red Bull</td>\n    </tr>\n    <tr>\n      <th>109180</th>\n      <td>99.4</td>\n      <td>730</td>\n      <td>S. Perez</td>\n      <td>C. Sainz Jr</td>\n      <td>A. Giovinazzi</td>\n      <td>G. Russell</td>\n      <td>N. Mazepin</td>\n      <td>Mercedes</td>\n    </tr>\n    <tr>\n      <th>109190</th>\n      <td>99.4</td>\n      <td>730</td>\n      <td>S. Perez</td>\n      <td>C. Sainz Jr</td>\n      <td>A. Giovinazzi</td>\n      <td>N. Latifi</td>\n      <td>M. Schumacher</td>\n      <td>Mercedes</td>\n    </tr>\n    <tr>\n      <th>150580</th>\n      <td>99.4</td>\n      <td>730</td>\n      <td>C. Sainz Jr</td>\n      <td>L. Stroll</td>\n      <td>P. Gasly</td>\n      <td>Y. Tsunoda</td>\n      <td>M. Schumacher</td>\n      <td>Mercedes</td>\n    </tr>\n    <tr>\n      <th>...</th>\n      <td>...</td>\n      <td>...</td>\n      <td>...</td>\n      <td>...</td>\n      <td>...</td>\n      <td>...</td>\n      <td>...</td>\n      <td>...</td>\n    </tr>\n    <tr>\n      <th>121621</th>\n      <td>97.9</td>\n      <td>725</td>\n      <td>D. Ricciardo</td>\n      <td>S. Vettel</td>\n      <td>A. Giovinazzi</td>\n      <td>G. Russell</td>\n      <td>M. Schumacher</td>\n      <td>Red Bull</td>\n    </tr>\n    <tr>\n      <th>141171</th>\n      <td>97.9</td>\n      <td>725</td>\n      <td>L. Norris</td>\n      <td>P. Gasly</td>\n      <td>K. Raikkonen</td>\n      <td>A. Giovinazzi</td>\n      <td>G. Russell</td>\n      <td>Red Bull</td>\n    </tr>\n    <tr>\n      <th>121571</th>\n      <td>97.9</td>\n      <td>725</td>\n      <td>D. Ricciardo</td>\n      <td>S. Vettel</td>\n      <td>Y. Tsunoda</td>\n      <td>G. Russell</td>\n      <td>N. Mazepin</td>\n      <td>Red Bull</td>\n    </tr>\n    <tr>\n      <th>150731</th>\n      <td>97.9</td>\n      <td>725</td>\n      <td>C. Sainz Jr</td>\n      <td>L. Stroll</td>\n      <td>E. Ocon</td>\n      <td>K. Raikkonen</td>\n      <td>N. Latifi</td>\n      <td>Red Bull</td>\n    </tr>\n    <tr>\n      <th>121581</th>\n      <td>97.9</td>\n      <td>725</td>\n      <td>D. Ricciardo</td>\n      <td>S. Vettel</td>\n      <td>Y. Tsunoda</td>\n      <td>N. Latifi</td>\n      <td>M. Schumacher</td>\n      <td>Red Bull</td>\n    </tr>\n  </tbody>\n</table>\n<p>1000 rows × 8 columns</p>\n</div>"
     },
     "metadata": {},
     "execution_count": 212
    }
   ],
   "source": [
    "df.loc[df[\"cost\"]<=100].sort_values(\"points\", ascending=False)[:1000]"
   ]
  },
  {
   "cell_type": "code",
   "execution_count": null,
   "metadata": {},
   "outputs": [],
   "source": []
  }
 ]
}