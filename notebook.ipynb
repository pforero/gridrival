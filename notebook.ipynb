{
 "cells": [
  {
   "cell_type": "code",
   "execution_count": 1,
   "metadata": {},
   "outputs": [],
   "source": [
    "from gridrival.drivers import DRIVERS\n",
    "from gridrival.teams import TEAMS"
   ]
  },
  {
   "cell_type": "code",
   "execution_count": 2,
   "metadata": {},
   "outputs": [],
   "source": [
    "from gridrival.probabilities.betting_odds import TOP_1, QUAL_1, RET_1, WinningOdds, RetirementOdds\n",
    "from gridrival.probabilities import GridProbabilities\n",
    "import pandas as pd"
   ]
  },
  {
   "cell_type": "code",
   "execution_count": 3,
   "metadata": {},
   "outputs": [],
   "source": [
    "odds = WinningOdds(pd.Series(TOP_1))\n",
    "qual = WinningOdds(pd.Series(TOP_1))\n",
    "comp = RetirementOdds(pd.Series(RET_1))"
   ]
  },
  {
   "cell_type": "code",
   "execution_count": 4,
   "metadata": {},
   "outputs": [],
   "source": [
    "completion = comp.completion_probabilities()\n",
    "completion[:] = 0\n",
    "completion[4] = 1"
   ]
  },
  {
   "cell_type": "code",
   "execution_count": 5,
   "metadata": {},
   "outputs": [],
   "source": [
    "qual = odds.naive_grid()"
   ]
  },
  {
   "cell_type": "code",
   "execution_count": 6,
   "metadata": {},
   "outputs": [],
   "source": [
    "grid = GridProbabilities(odds.naive_grid(), completion, qual)"
   ]
  },
  {
   "cell_type": "code",
   "execution_count": 7,
   "metadata": {},
   "outputs": [],
   "source": [
    "for driver in DRIVERS:\n",
    "    driver.probabilities = grid.driver_probabilities(driver.name)"
   ]
  },
  {
   "cell_type": "code",
   "execution_count": 8,
   "metadata": {},
   "outputs": [],
   "source": [
    "fixed_drivers = [driver.to_fixed_info() for driver in DRIVERS]"
   ]
  },
  {
   "cell_type": "code",
   "execution_count": 9,
   "metadata": {},
   "outputs": [],
   "source": [
    "fixed_teams = [team.to_fixed_info() for team in TEAMS]"
   ]
  },
  {
   "cell_type": "code",
   "execution_count": 10,
   "metadata": {},
   "outputs": [],
   "source": [
    "from gridrival.optimization.basic import BasicSolver"
   ]
  },
  {
   "cell_type": "code",
   "execution_count": 11,
   "metadata": {},
   "outputs": [
    {
     "data": {
      "text/plain": [
       "[L. Hamilton,\n",
       " M. Verstappen,\n",
       " V. Bottas,\n",
       " S. Perez,\n",
       " D. Ricciardo,\n",
       " F. Alonso,\n",
       " L. Norris,\n",
       " C. Leclerc,\n",
       " S. Vettel,\n",
       " C. Sainz Jr,\n",
       " L. Stroll,\n",
       " P. Gasly,\n",
       " E. Ocon,\n",
       " K. Raikkonen,\n",
       " Y. Tsunoda,\n",
       " A. Giovinazzi,\n",
       " G. Russell,\n",
       " N. Latifi,\n",
       " M. Schumacher,\n",
       " N. Mazepin]"
      ]
     },
     "execution_count": 11,
     "metadata": {},
     "output_type": "execute_result"
    }
   ],
   "source": [
    "DRIVERS"
   ]
  },
  {
   "cell_type": "code",
   "execution_count": 21,
   "metadata": {},
   "outputs": [],
   "source": [
    "solve = BasicSolver(\n",
    "    drivers=fixed_drivers,\n",
    "    teams=fixed_teams,\n",
    "    in_constraint=[],\n",
    "    out_constraint=[DRIVERS[2], DRIVERS[11]],\n",
    "    budget=143.592e6-0\n",
    ")"
   ]
  },
  {
   "cell_type": "code",
   "execution_count": 22,
   "metadata": {},
   "outputs": [],
   "source": [
    "df = solve.to_dataframe()"
   ]
  },
  {
   "cell_type": "code",
   "execution_count": 23,
   "metadata": {},
   "outputs": [
    {
     "data": {
      "text/html": [
       "<div>\n",
       "<style scoped>\n",
       "    .dataframe tbody tr th:only-of-type {\n",
       "        vertical-align: middle;\n",
       "    }\n",
       "\n",
       "    .dataframe tbody tr th {\n",
       "        vertical-align: top;\n",
       "    }\n",
       "\n",
       "    .dataframe thead th {\n",
       "        text-align: right;\n",
       "    }\n",
       "</style>\n",
       "<table border=\"1\" class=\"dataframe\">\n",
       "  <thead>\n",
       "    <tr style=\"text-align: right;\">\n",
       "      <th></th>\n",
       "      <th>driver_1</th>\n",
       "      <th>driver_2</th>\n",
       "      <th>driver_3</th>\n",
       "      <th>driver_4</th>\n",
       "      <th>driver_5</th>\n",
       "      <th>team</th>\n",
       "      <th>talent_driver</th>\n",
       "      <th>cost</th>\n",
       "      <th>points</th>\n",
       "    </tr>\n",
       "  </thead>\n",
       "  <tbody>\n",
       "    <tr>\n",
       "      <th>85312</th>\n",
       "      <td>K. Raikkonen</td>\n",
       "      <td>A. Giovinazzi</td>\n",
       "      <td>N. Latifi</td>\n",
       "      <td>M. Schumacher</td>\n",
       "      <td>N. Mazepin</td>\n",
       "      <td>Haas</td>\n",
       "      <td>A. Giovinazzi</td>\n",
       "      <td>48400000.0</td>\n",
       "      <td>662.757064</td>\n",
       "    </tr>\n",
       "    <tr>\n",
       "      <th>85322</th>\n",
       "      <td>K. Raikkonen</td>\n",
       "      <td>G. Russell</td>\n",
       "      <td>N. Latifi</td>\n",
       "      <td>M. Schumacher</td>\n",
       "      <td>N. Mazepin</td>\n",
       "      <td>Haas</td>\n",
       "      <td>G. Russell</td>\n",
       "      <td>47500000.0</td>\n",
       "      <td>669.538522</td>\n",
       "    </tr>\n",
       "    <tr>\n",
       "      <th>85382</th>\n",
       "      <td>A. Giovinazzi</td>\n",
       "      <td>G. Russell</td>\n",
       "      <td>N. Latifi</td>\n",
       "      <td>M. Schumacher</td>\n",
       "      <td>N. Mazepin</td>\n",
       "      <td>Haas</td>\n",
       "      <td>G. Russell</td>\n",
       "      <td>45700000.0</td>\n",
       "      <td>670.341676</td>\n",
       "    </tr>\n",
       "    <tr>\n",
       "      <th>85302</th>\n",
       "      <td>K. Raikkonen</td>\n",
       "      <td>A. Giovinazzi</td>\n",
       "      <td>G. Russell</td>\n",
       "      <td>M. Schumacher</td>\n",
       "      <td>N. Mazepin</td>\n",
       "      <td>Haas</td>\n",
       "      <td>G. Russell</td>\n",
       "      <td>53000000.0</td>\n",
       "      <td>676.587292</td>\n",
       "    </tr>\n",
       "    <tr>\n",
       "      <th>85313</th>\n",
       "      <td>K. Raikkonen</td>\n",
       "      <td>A. Giovinazzi</td>\n",
       "      <td>N. Latifi</td>\n",
       "      <td>M. Schumacher</td>\n",
       "      <td>N. Mazepin</td>\n",
       "      <td>Williams</td>\n",
       "      <td>A. Giovinazzi</td>\n",
       "      <td>52900000.0</td>\n",
       "      <td>677.256843</td>\n",
       "    </tr>\n",
       "    <tr>\n",
       "      <th>...</th>\n",
       "      <td>...</td>\n",
       "      <td>...</td>\n",
       "      <td>...</td>\n",
       "      <td>...</td>\n",
       "      <td>...</td>\n",
       "      <td>...</td>\n",
       "      <td>...</td>\n",
       "      <td>...</td>\n",
       "      <td>...</td>\n",
       "    </tr>\n",
       "    <tr>\n",
       "      <th>1080</th>\n",
       "      <td>L. Hamilton</td>\n",
       "      <td>M. Verstappen</td>\n",
       "      <td>D. Ricciardo</td>\n",
       "      <td>L. Norris</td>\n",
       "      <td>Y. Tsunoda</td>\n",
       "      <td>Mercedes</td>\n",
       "      <td>Y. Tsunoda</td>\n",
       "      <td>135600000.0</td>\n",
       "      <td>1038.701877</td>\n",
       "    </tr>\n",
       "    <tr>\n",
       "      <th>2773</th>\n",
       "      <td>L. Hamilton</td>\n",
       "      <td>M. Verstappen</td>\n",
       "      <td>L. Norris</td>\n",
       "      <td>C. Sainz Jr</td>\n",
       "      <td>Y. Tsunoda</td>\n",
       "      <td>Mercedes</td>\n",
       "      <td>Y. Tsunoda</td>\n",
       "      <td>139600000.0</td>\n",
       "      <td>1039.784211</td>\n",
       "    </tr>\n",
       "    <tr>\n",
       "      <th>52</th>\n",
       "      <td>L. Hamilton</td>\n",
       "      <td>M. Verstappen</td>\n",
       "      <td>S. Perez</td>\n",
       "      <td>D. Ricciardo</td>\n",
       "      <td>Y. Tsunoda</td>\n",
       "      <td>Mercedes</td>\n",
       "      <td>Y. Tsunoda</td>\n",
       "      <td>142200000.0</td>\n",
       "      <td>1042.879049</td>\n",
       "    </tr>\n",
       "    <tr>\n",
       "      <th>250</th>\n",
       "      <td>L. Hamilton</td>\n",
       "      <td>M. Verstappen</td>\n",
       "      <td>S. Perez</td>\n",
       "      <td>L. Norris</td>\n",
       "      <td>Y. Tsunoda</td>\n",
       "      <td>Red Bull</td>\n",
       "      <td>Y. Tsunoda</td>\n",
       "      <td>142800000.0</td>\n",
       "      <td>1043.529556</td>\n",
       "    </tr>\n",
       "    <tr>\n",
       "      <th>2592</th>\n",
       "      <td>L. Hamilton</td>\n",
       "      <td>M. Verstappen</td>\n",
       "      <td>L. Norris</td>\n",
       "      <td>C. Leclerc</td>\n",
       "      <td>Y. Tsunoda</td>\n",
       "      <td>Mercedes</td>\n",
       "      <td>Y. Tsunoda</td>\n",
       "      <td>141600000.0</td>\n",
       "      <td>1044.195833</td>\n",
       "    </tr>\n",
       "  </tbody>\n",
       "</table>\n",
       "<p>85384 rows × 9 columns</p>\n",
       "</div>"
      ],
      "text/plain": [
       "            driver_1       driver_2      driver_3       driver_4    driver_5  \\\n",
       "85312   K. Raikkonen  A. Giovinazzi     N. Latifi  M. Schumacher  N. Mazepin   \n",
       "85322   K. Raikkonen     G. Russell     N. Latifi  M. Schumacher  N. Mazepin   \n",
       "85382  A. Giovinazzi     G. Russell     N. Latifi  M. Schumacher  N. Mazepin   \n",
       "85302   K. Raikkonen  A. Giovinazzi    G. Russell  M. Schumacher  N. Mazepin   \n",
       "85313   K. Raikkonen  A. Giovinazzi     N. Latifi  M. Schumacher  N. Mazepin   \n",
       "...              ...            ...           ...            ...         ...   \n",
       "1080     L. Hamilton  M. Verstappen  D. Ricciardo      L. Norris  Y. Tsunoda   \n",
       "2773     L. Hamilton  M. Verstappen     L. Norris    C. Sainz Jr  Y. Tsunoda   \n",
       "52       L. Hamilton  M. Verstappen      S. Perez   D. Ricciardo  Y. Tsunoda   \n",
       "250      L. Hamilton  M. Verstappen      S. Perez      L. Norris  Y. Tsunoda   \n",
       "2592     L. Hamilton  M. Verstappen     L. Norris     C. Leclerc  Y. Tsunoda   \n",
       "\n",
       "           team  talent_driver         cost       points  \n",
       "85312      Haas  A. Giovinazzi   48400000.0   662.757064  \n",
       "85322      Haas     G. Russell   47500000.0   669.538522  \n",
       "85382      Haas     G. Russell   45700000.0   670.341676  \n",
       "85302      Haas     G. Russell   53000000.0   676.587292  \n",
       "85313  Williams  A. Giovinazzi   52900000.0   677.256843  \n",
       "...         ...            ...          ...          ...  \n",
       "1080   Mercedes     Y. Tsunoda  135600000.0  1038.701877  \n",
       "2773   Mercedes     Y. Tsunoda  139600000.0  1039.784211  \n",
       "52     Mercedes     Y. Tsunoda  142200000.0  1042.879049  \n",
       "250    Red Bull     Y. Tsunoda  142800000.0  1043.529556  \n",
       "2592   Mercedes     Y. Tsunoda  141600000.0  1044.195833  \n",
       "\n",
       "[85384 rows x 9 columns]"
      ]
     },
     "execution_count": 23,
     "metadata": {},
     "output_type": "execute_result"
    }
   ],
   "source": [
    "df.sort_values(by=\"points\")"
   ]
  },
  {
   "cell_type": "code",
   "execution_count": null,
   "metadata": {},
   "outputs": [],
   "source": []
  }
 ],
 "metadata": {
  "interpreter": {
   "hash": "e4478d622c45fb345fdc11753a3aa54b5aa949edc72b6768c085ca8d961d3126"
  },
  "kernelspec": {
   "display_name": "Python 3.9.2 64-bit ('gridrival': conda)",
   "name": "python3"
  },
  "language_info": {
   "codemirror_mode": {
    "name": "ipython",
    "version": 3
   },
   "file_extension": ".py",
   "mimetype": "text/x-python",
   "name": "python",
   "nbconvert_exporter": "python",
   "pygments_lexer": "ipython3",
   "version": "3.9.2"
  },
  "orig_nbformat": 2
 },
 "nbformat": 4,
 "nbformat_minor": 2
}
