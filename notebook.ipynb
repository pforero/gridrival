{
 "metadata": {
  "language_info": {
   "codemirror_mode": {
    "name": "ipython",
    "version": 3
   },
   "file_extension": ".py",
   "mimetype": "text/x-python",
   "name": "python",
   "nbconvert_exporter": "python",
   "pygments_lexer": "ipython3",
   "version": "3.9.2"
  },
  "orig_nbformat": 2,
  "kernelspec": {
   "name": "python3",
   "display_name": "Python 3.9.2 64-bit ('gridrival': conda)"
  },
  "interpreter": {
   "hash": "e4478d622c45fb345fdc11753a3aa54b5aa949edc72b6768c085ca8d961d3126"
  }
 },
 "nbformat": 4,
 "nbformat_minor": 2,
 "cells": [
  {
   "cell_type": "code",
   "execution_count": 1,
   "metadata": {},
   "outputs": [],
   "source": [
    "from gridrival.drivers import DRIVERS\n",
    "from gridrival.teams import TEAMS"
   ]
  },
  {
   "cell_type": "code",
   "execution_count": 2,
   "metadata": {},
   "outputs": [],
   "source": [
    "from gridrival.probabilities.betting_odds import TOP_1, WinningOdds\n",
    "from gridrival.probabilities import GridProbabilities\n",
    "import pandas as pd"
   ]
  },
  {
   "cell_type": "code",
   "execution_count": null,
   "metadata": {},
   "outputs": [],
   "source": []
  },
  {
   "cell_type": "code",
   "execution_count": 3,
   "metadata": {},
   "outputs": [],
   "source": [
    "odds = WinningOdds(pd.Series(TOP_1))"
   ]
  },
  {
   "cell_type": "code",
   "execution_count": 4,
   "metadata": {},
   "outputs": [],
   "source": [
    "grid = GridProbabilities(odds.naive_grid())"
   ]
  },
  {
   "cell_type": "code",
   "execution_count": 5,
   "metadata": {},
   "outputs": [],
   "source": [
    "for driver in DRIVERS:\n",
    "    driver.probabilities = grid.driver_probabilities(driver.name)"
   ]
  },
  {
   "cell_type": "code",
   "execution_count": 6,
   "metadata": {},
   "outputs": [],
   "source": [
    "fixed_drivers = [driver.to_fixed_info() for driver in DRIVERS]"
   ]
  },
  {
   "cell_type": "code",
   "execution_count": 7,
   "metadata": {},
   "outputs": [],
   "source": [
    "fixed_teams = [team.to_fixed_info() for team in TEAMS]"
   ]
  },
  {
   "cell_type": "code",
   "execution_count": 8,
   "metadata": {},
   "outputs": [],
   "source": [
    "from gridrival.optimization.basic import BasicSolver"
   ]
  },
  {
   "cell_type": "code",
   "execution_count": 9,
   "metadata": {},
   "outputs": [
    {
     "output_type": "execute_result",
     "data": {
      "text/plain": [
       "[L. Hamilton,\n",
       " M. Verstappen,\n",
       " V. Bottas,\n",
       " S. Perez,\n",
       " D. Ricciardo,\n",
       " F. Alonso,\n",
       " L. Norris,\n",
       " C. Leclerc,\n",
       " S. Vettel,\n",
       " C. Sainz Jr,\n",
       " L. Stroll,\n",
       " P. Gasly,\n",
       " E. Ocon,\n",
       " K. Raikkonen,\n",
       " Y. Tsunoda,\n",
       " A. Giovinazzi,\n",
       " G. Russell,\n",
       " N. Latifi,\n",
       " M. Schumacher,\n",
       " N. Mazepin]"
      ]
     },
     "metadata": {},
     "execution_count": 9
    }
   ],
   "source": [
    "DRIVERS"
   ]
  },
  {
   "cell_type": "code",
   "execution_count": 16,
   "metadata": {},
   "outputs": [],
   "source": [
    "solve = BasicSolver(\n",
    "    drivers=fixed_drivers,\n",
    "    teams=fixed_teams,\n",
    "    in_constraint=[],\n",
    "    out_constraint=[DRIVERS[1], DRIVERS[16]],\n",
    "    budget=119.867e6\n",
    ")"
   ]
  },
  {
   "cell_type": "code",
   "execution_count": 17,
   "metadata": {},
   "outputs": [],
   "source": [
    "df = solve.to_dataframe()"
   ]
  },
  {
   "cell_type": "code",
   "execution_count": 18,
   "metadata": {},
   "outputs": [
    {
     "output_type": "execute_result",
     "data": {
      "text/plain": [
       "           driver_1       driver_2   driver_3       driver_4    driver_5  \\\n",
       "72385  K. Raikkonen  A. Giovinazzi  N. Latifi  M. Schumacher  N. Mazepin   \n",
       "72386  K. Raikkonen  A. Giovinazzi  N. Latifi  M. Schumacher  N. Mazepin   \n",
       "72384  K. Raikkonen  A. Giovinazzi  N. Latifi  M. Schumacher  N. Mazepin   \n",
       "69825     S. Vettel   K. Raikkonen  N. Latifi  M. Schumacher  N. Mazepin   \n",
       "69875     S. Vettel  A. Giovinazzi  N. Latifi  M. Schumacher  N. Mazepin   \n",
       "...             ...            ...        ...            ...         ...   \n",
       "15526   L. Hamilton      L. Stroll   P. Gasly        E. Ocon  Y. Tsunoda   \n",
       "5743    L. Hamilton   D. Ricciardo  F. Alonso        E. Ocon  Y. Tsunoda   \n",
       "15527   L. Hamilton      L. Stroll   P. Gasly        E. Ocon  Y. Tsunoda   \n",
       "9899    L. Hamilton      F. Alonso   P. Gasly        E. Ocon  Y. Tsunoda   \n",
       "2277    L. Hamilton      V. Bottas  L. Stroll        E. Ocon  Y. Tsunoda   \n",
       "\n",
       "             team  talent_driver         cost       points  \n",
       "72385        Haas  A. Giovinazzi   46500000.0   688.764169  \n",
       "72386    Williams  A. Giovinazzi   48100000.0   695.289172  \n",
       "72384  Alfa Romeo  A. Giovinazzi   52200000.0   698.378606  \n",
       "69825        Haas   K. Raikkonen   52900000.0   705.050954  \n",
       "69875        Haas  A. Giovinazzi   51900000.0   706.908952  \n",
       "...           ...            ...          ...          ...  \n",
       "15526    Mercedes     Y. Tsunoda  115700000.0   992.204089  \n",
       "5743     Mercedes     Y. Tsunoda  119700000.0   994.005195  \n",
       "15527    Red Bull     Y. Tsunoda  117400000.0   994.469991  \n",
       "9899     Mercedes     Y. Tsunoda  119800000.0   996.855917  \n",
       "2277     Mercedes     Y. Tsunoda  119200000.0  1002.542193  \n",
       "\n",
       "[72397 rows x 9 columns]"
      ],
      "text/html": "<div>\n<style scoped>\n    .dataframe tbody tr th:only-of-type {\n        vertical-align: middle;\n    }\n\n    .dataframe tbody tr th {\n        vertical-align: top;\n    }\n\n    .dataframe thead th {\n        text-align: right;\n    }\n</style>\n<table border=\"1\" class=\"dataframe\">\n  <thead>\n    <tr style=\"text-align: right;\">\n      <th></th>\n      <th>driver_1</th>\n      <th>driver_2</th>\n      <th>driver_3</th>\n      <th>driver_4</th>\n      <th>driver_5</th>\n      <th>team</th>\n      <th>talent_driver</th>\n      <th>cost</th>\n      <th>points</th>\n    </tr>\n  </thead>\n  <tbody>\n    <tr>\n      <th>72385</th>\n      <td>K. Raikkonen</td>\n      <td>A. Giovinazzi</td>\n      <td>N. Latifi</td>\n      <td>M. Schumacher</td>\n      <td>N. Mazepin</td>\n      <td>Haas</td>\n      <td>A. Giovinazzi</td>\n      <td>46500000.0</td>\n      <td>688.764169</td>\n    </tr>\n    <tr>\n      <th>72386</th>\n      <td>K. Raikkonen</td>\n      <td>A. Giovinazzi</td>\n      <td>N. Latifi</td>\n      <td>M. Schumacher</td>\n      <td>N. Mazepin</td>\n      <td>Williams</td>\n      <td>A. Giovinazzi</td>\n      <td>48100000.0</td>\n      <td>695.289172</td>\n    </tr>\n    <tr>\n      <th>72384</th>\n      <td>K. Raikkonen</td>\n      <td>A. Giovinazzi</td>\n      <td>N. Latifi</td>\n      <td>M. Schumacher</td>\n      <td>N. Mazepin</td>\n      <td>Alfa Romeo</td>\n      <td>A. Giovinazzi</td>\n      <td>52200000.0</td>\n      <td>698.378606</td>\n    </tr>\n    <tr>\n      <th>69825</th>\n      <td>S. Vettel</td>\n      <td>K. Raikkonen</td>\n      <td>N. Latifi</td>\n      <td>M. Schumacher</td>\n      <td>N. Mazepin</td>\n      <td>Haas</td>\n      <td>K. Raikkonen</td>\n      <td>52900000.0</td>\n      <td>705.050954</td>\n    </tr>\n    <tr>\n      <th>69875</th>\n      <td>S. Vettel</td>\n      <td>A. Giovinazzi</td>\n      <td>N. Latifi</td>\n      <td>M. Schumacher</td>\n      <td>N. Mazepin</td>\n      <td>Haas</td>\n      <td>A. Giovinazzi</td>\n      <td>51900000.0</td>\n      <td>706.908952</td>\n    </tr>\n    <tr>\n      <th>...</th>\n      <td>...</td>\n      <td>...</td>\n      <td>...</td>\n      <td>...</td>\n      <td>...</td>\n      <td>...</td>\n      <td>...</td>\n      <td>...</td>\n      <td>...</td>\n    </tr>\n    <tr>\n      <th>15526</th>\n      <td>L. Hamilton</td>\n      <td>L. Stroll</td>\n      <td>P. Gasly</td>\n      <td>E. Ocon</td>\n      <td>Y. Tsunoda</td>\n      <td>Mercedes</td>\n      <td>Y. Tsunoda</td>\n      <td>115700000.0</td>\n      <td>992.204089</td>\n    </tr>\n    <tr>\n      <th>5743</th>\n      <td>L. Hamilton</td>\n      <td>D. Ricciardo</td>\n      <td>F. Alonso</td>\n      <td>E. Ocon</td>\n      <td>Y. Tsunoda</td>\n      <td>Mercedes</td>\n      <td>Y. Tsunoda</td>\n      <td>119700000.0</td>\n      <td>994.005195</td>\n    </tr>\n    <tr>\n      <th>15527</th>\n      <td>L. Hamilton</td>\n      <td>L. Stroll</td>\n      <td>P. Gasly</td>\n      <td>E. Ocon</td>\n      <td>Y. Tsunoda</td>\n      <td>Red Bull</td>\n      <td>Y. Tsunoda</td>\n      <td>117400000.0</td>\n      <td>994.469991</td>\n    </tr>\n    <tr>\n      <th>9899</th>\n      <td>L. Hamilton</td>\n      <td>F. Alonso</td>\n      <td>P. Gasly</td>\n      <td>E. Ocon</td>\n      <td>Y. Tsunoda</td>\n      <td>Mercedes</td>\n      <td>Y. Tsunoda</td>\n      <td>119800000.0</td>\n      <td>996.855917</td>\n    </tr>\n    <tr>\n      <th>2277</th>\n      <td>L. Hamilton</td>\n      <td>V. Bottas</td>\n      <td>L. Stroll</td>\n      <td>E. Ocon</td>\n      <td>Y. Tsunoda</td>\n      <td>Mercedes</td>\n      <td>Y. Tsunoda</td>\n      <td>119200000.0</td>\n      <td>1002.542193</td>\n    </tr>\n  </tbody>\n</table>\n<p>72397 rows × 9 columns</p>\n</div>"
     },
     "metadata": {},
     "execution_count": 18
    }
   ],
   "source": [
    "df.sort_values(by=\"points\")"
   ]
  },
  {
   "cell_type": "code",
   "execution_count": null,
   "metadata": {},
   "outputs": [],
   "source": []
  },
  {
   "cell_type": "code",
   "execution_count": null,
   "metadata": {},
   "outputs": [],
   "source": []
  },
  {
   "cell_type": "code",
   "execution_count": null,
   "metadata": {},
   "outputs": [],
   "source": []
  },
  {
   "cell_type": "code",
   "execution_count": null,
   "metadata": {},
   "outputs": [],
   "source": []
  },
  {
   "cell_type": "code",
   "execution_count": null,
   "metadata": {},
   "outputs": [],
   "source": []
  }
 ]
}