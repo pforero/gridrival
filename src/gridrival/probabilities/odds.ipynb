{
 "metadata": {
  "language_info": {
   "codemirror_mode": {
    "name": "ipython",
    "version": 3
   },
   "file_extension": ".py",
   "mimetype": "text/x-python",
   "name": "python",
   "nbconvert_exporter": "python",
   "pygments_lexer": "ipython3",
   "version": "3.7.10"
  },
  "orig_nbformat": 2,
  "kernelspec": {
   "name": "python3",
   "display_name": "Python 3",
   "language": "python"
  }
 },
 "nbformat": 4,
 "nbformat_minor": 2,
 "cells": [
  {
   "cell_type": "code",
   "execution_count": 1,
   "metadata": {},
   "outputs": [],
   "source": [
    "import sys\n",
    "import copy\n",
    "import pandas as pd\n",
    "\n",
    "from itertools import combinations ,permutations, product"
   ]
  },
  {
   "cell_type": "code",
   "execution_count": 2,
   "metadata": {},
   "outputs": [],
   "source": [
    "sys.path.append(\".\")"
   ]
  },
  {
   "cell_type": "code",
   "execution_count": 3,
   "metadata": {},
   "outputs": [],
   "source": [
    "from odds import QUAL_1, TOP_1, TOP_10, TOP_3, TOP_6, BettingOdds, MultipleOdds"
   ]
  },
  {
   "cell_type": "code",
   "execution_count": 4,
   "metadata": {},
   "outputs": [],
   "source": [
    "a = BettingOdds(QUAL_1)"
   ]
  },
  {
   "cell_type": "code",
   "execution_count": 5,
   "metadata": {},
   "outputs": [],
   "source": [
    "top1 = BettingOdds(TOP_1)\n",
    "top3 = BettingOdds(TOP_3, 3)\n",
    "top6 = BettingOdds(TOP_6, 6)\n",
    "top10 = BettingOdds(TOP_10, 10)"
   ]
  },
  {
   "cell_type": "code",
   "execution_count": 6,
   "metadata": {},
   "outputs": [],
   "source": [
    "b = MultipleOdds(top1, top3, top6, top10)"
   ]
  },
  {
   "cell_type": "code",
   "execution_count": 13,
   "metadata": {},
   "outputs": [
    {
     "output_type": "execute_result",
     "data": {
      "text/plain": [
       "1     1.000000\n",
       "2     0.933571\n",
       "3     1.066429\n",
       "4     0.764956\n",
       "5     0.998308\n",
       "6     1.236736\n",
       "7     1.048904\n",
       "8     0.973776\n",
       "9     0.974629\n",
       "10    1.002691\n",
       "11    1.243404\n",
       "12    1.117090\n",
       "13    1.038390\n",
       "14    0.986726\n",
       "15    0.952280\n",
       "16    0.930813\n",
       "17    0.921125\n",
       "18    0.922744\n",
       "19    0.933849\n",
       "20    0.953581\n",
       "dtype: float64"
      ]
     },
     "metadata": {},
     "execution_count": 13
    }
   ],
   "source": [
    "b.grid().sum()"
   ]
  },
  {
   "cell_type": "code",
   "execution_count": 49,
   "metadata": {},
   "outputs": [
    {
     "output_type": "execute_result",
     "data": {
      "text/plain": [
       "L. Hamilton      0.565872\n",
       "M. Verstappen    0.591316\n",
       "V. Bottas        0.439474\n",
       "S. Perez         0.431521\n",
       "D. Ricciardo     0.393951\n",
       "L. Norris        0.388191\n",
       "P. Gasly         0.385419\n",
       "S. Vettel        0.384492\n",
       "L. Stroll        0.384492\n",
       "C. Leclerc       0.384492\n",
       "F. Alonso        0.383749\n",
       "C. Sainz Jr      0.383749\n",
       "E. Ocon          0.383253\n",
       "Y. Tsunoda       0.383253\n",
       "G. Russell       0.381514\n",
       "K. Raikkonen     0.381265\n",
       "A. Giovinazzi    0.381141\n",
       "N. Latifi        0.380892\n",
       "M. Schumacher    0.380892\n",
       "N. Mazepin       0.380892\n",
       "dtype: float64"
      ]
     },
     "metadata": {},
     "execution_count": 49
    }
   ],
   "source": [
    "top1.naive_grid()[2]  / top1.naive_grid().loc[:, 2:3].sum(axis=1)"
   ]
  },
  {
   "cell_type": "code",
   "execution_count": 38,
   "metadata": {},
   "outputs": [
    {
     "output_type": "execute_result",
     "data": {
      "text/plain": [
       "L. Hamilton      0.289135\n",
       "M. Verstappen    0.303948\n",
       "V. Bottas        0.139723\n",
       "S. Perez         0.124319\n",
       "D. Ricciardo     0.037177\n",
       "L. Norris        0.021409\n",
       "P. Gasly         0.013563\n",
       "S. Vettel        0.010899\n",
       "L. Stroll        0.010899\n",
       "C. Leclerc       0.010899\n",
       "F. Alonso        0.008751\n",
       "C. Sainz Jr      0.008751\n",
       "E. Ocon          0.007310\n",
       "Y. Tsunoda       0.007310\n",
       "G. Russell       0.002212\n",
       "K. Raikkonen     0.001476\n",
       "A. Giovinazzi    0.001108\n",
       "N. Latifi        0.000370\n",
       "M. Schumacher    0.000370\n",
       "N. Mazepin       0.000370\n",
       "Name: 2, dtype: float64"
      ]
     },
     "metadata": {},
     "execution_count": 38
    }
   ],
   "source": [
    "top1.naive_grid()[2]"
   ]
  },
  {
   "cell_type": "code",
   "execution_count": 39,
   "metadata": {},
   "outputs": [
    {
     "output_type": "execute_result",
     "data": {
      "text/plain": [
       "L. Hamilton      0.510955\n",
       "M. Verstappen    0.514020\n",
       "V. Bottas        0.317932\n",
       "S. Perez         0.288094\n",
       "D. Ricciardo     0.094370\n",
       "L. Norris        0.055151\n",
       "P. Gasly         0.035189\n",
       "S. Vettel        0.028347\n",
       "L. Stroll        0.028347\n",
       "C. Leclerc       0.028347\n",
       "F. Alonso        0.022804\n",
       "C. Sainz Jr      0.022804\n",
       "E. Ocon          0.019074\n",
       "Y. Tsunoda       0.019074\n",
       "G. Russell       0.005798\n",
       "K. Raikkonen     0.003872\n",
       "A. Giovinazzi    0.002907\n",
       "N. Latifi        0.000971\n",
       "M. Schumacher    0.000971\n",
       "N. Mazepin       0.000971\n",
       "dtype: float64"
      ]
     },
     "metadata": {},
     "execution_count": 39
    }
   ],
   "source": [
    "top1.naive_grid().loc[:, 2:3].sum(axis=1)"
   ]
  },
  {
   "cell_type": "code",
   "execution_count": 44,
   "metadata": {},
   "outputs": [
    {
     "output_type": "execute_result",
     "data": {
      "text/plain": [
       "8.16982055641668"
      ]
     },
     "metadata": {},
     "execution_count": 44
    }
   ],
   "source": [
    "(top1.naive_grid()[2]  / top1.naive_grid().loc[:, 2:3].sum(axis=1)).sum()"
   ]
  },
  {
   "cell_type": "code",
   "execution_count": 47,
   "metadata": {},
   "outputs": [
    {
     "output_type": "execute_result",
     "data": {
      "text/plain": [
       "L. Hamilton      0.565872\n",
       "M. Verstappen    0.591316\n",
       "V. Bottas        0.439474\n",
       "S. Perez         0.431521\n",
       "D. Ricciardo     0.393951\n",
       "L. Norris        0.388191\n",
       "P. Gasly         0.385419\n",
       "S. Vettel        0.384492\n",
       "L. Stroll        0.384492\n",
       "C. Leclerc       0.384492\n",
       "F. Alonso        0.383749\n",
       "C. Sainz Jr      0.383749\n",
       "E. Ocon          0.383253\n",
       "Y. Tsunoda       0.383253\n",
       "G. Russell       0.381514\n",
       "K. Raikkonen     0.381265\n",
       "A. Giovinazzi    0.381141\n",
       "N. Latifi        0.380892\n",
       "M. Schumacher    0.380892\n",
       "N. Mazepin       0.380892\n",
       "dtype: float64"
      ]
     },
     "metadata": {},
     "execution_count": 47
    }
   ],
   "source": [
    "top1.naive_grid()[2]  / top1.naive_grid().loc[:, 2:3].sum(axis=1) "
   ]
  },
  {
   "cell_type": "code",
   "execution_count": 59,
   "metadata": {},
   "outputs": [],
   "source": [
    "from scipy.optimize import fmin_cobyla"
   ]
  },
  {
   "cell_type": "code",
   "execution_count": 144,
   "metadata": {},
   "outputs": [],
   "source": [
    "def objective(x):\n",
    "    return sum(abs(naive_ratios - np.divide(np.array(x[0:20]), (np.array(x[0:20]) + np.array(x[20:40]))))**2)"
   ]
  },
  {
   "cell_type": "code",
   "execution_count": 65,
   "metadata": {},
   "outputs": [],
   "source": [
    "def constraint_1(x):\n",
    "    return -abs(1 - sum(x[:20]))"
   ]
  },
  {
   "cell_type": "code",
   "execution_count": 66,
   "metadata": {},
   "outputs": [],
   "source": [
    "def constraint_2(x):\n",
    "    return -abs(1 - sum(x[20:40]))"
   ]
  },
  {
   "cell_type": "code",
   "execution_count": 94,
   "metadata": {},
   "outputs": [],
   "source": [
    "def pilot(x):\n",
    "    return -abs(PROBDIFF - (np.array(x[0:20]) + np.array(x[20:40])))"
   ]
  },
  {
   "cell_type": "code",
   "execution_count": 98,
   "metadata": {},
   "outputs": [],
   "source": [
    "def ub(x):\n",
    "    return 1 - np.array(x)\n",
    "def lb(x):\n",
    "    return x"
   ]
  },
  {
   "cell_type": "code",
   "execution_count": 152,
   "metadata": {},
   "outputs": [
    {
     "output_type": "execute_result",
     "data": {
      "text/plain": [
       "array([9.66959421e-02, 2.25902336e-01, 3.69039139e-01, 1.24252199e-02,\n",
       "       9.45275650e-02, 3.87391168e-02, 7.86271594e-04, 3.74228929e-02,\n",
       "       3.85634318e-02, 2.51011574e-02, 2.45673411e-02, 4.04017556e-05,\n",
       "       1.59836460e-02, 2.96529191e-04, 5.18950953e-03, 6.41123367e-03,\n",
       "       7.64613643e-03, 1.67657417e-04, 2.34089608e-04, 2.01912765e-04,\n",
       "       2.47064669e-01, 8.43924491e-02, 2.34431653e-02, 3.02362873e-01,\n",
       "       5.27219315e-02, 7.05920549e-02, 8.66377142e-02, 1.29703269e-02,\n",
       "       1.18376838e-02, 2.52853178e-02, 2.66303164e-03, 2.71919616e-02,\n",
       "       1.23363510e-02, 3.60402074e-02, 1.83376119e-03, 1.18997129e-03,\n",
       "       2.48508260e-04, 4.34000958e-04, 3.73459877e-04, 4.21563414e-04])"
      ]
     },
     "metadata": {},
     "execution_count": 152
    }
   ],
   "source": [
    "fmin_cobyla(objective, [0.05]*40, [constraint_1, constraint_2, pilot, ub, lb,], disp=3)"
   ]
  },
  {
   "cell_type": "code",
   "execution_count": 142,
   "metadata": {},
   "outputs": [
    {
     "output_type": "execute_result",
     "data": {
      "text/plain": [
       "0.9999591197493516"
      ]
     },
     "metadata": {},
     "execution_count": 142
    }
   ],
   "source": [
    "sum(ans[20:40])"
   ]
  },
  {
   "cell_type": "code",
   "execution_count": 146,
   "metadata": {},
   "outputs": [
    {
     "output_type": "execute_result",
     "data": {
      "text/plain": [
       "array([ 1.98138812e-01,  1.28542352e-01,  1.67937131e-01,  1.33588411e-01,\n",
       "        5.58102686e-02,  6.24267446e-02,  7.89828663e-02,  5.03219185e-02,\n",
       "        1.54914286e-02,  1.57824301e-02,  4.65602897e-03,  2.72235390e-02,\n",
       "        2.83231958e-02,  2.02061740e-02,  2.64494893e-05,  7.59571644e-03,\n",
       "        3.85204952e-03,  3.21251776e-04,  1.70694747e-04,  5.58832018e-04,\n",
       "        1.45642999e-01,  1.81714312e-01,  2.24550399e-01,  1.81230620e-01,\n",
       "        9.14267575e-02,  4.68993469e-02,  8.47580774e-03,  3.93761068e-05,\n",
       "        3.49012337e-02,  3.46079095e-02,  2.25321140e-02, -5.59041745e-20,\n",
       "        6.09863722e-20,  1.61862055e-02,  7.02316239e-03, -2.96461532e-20,\n",
       "        4.04152170e-03,  2.59938533e-04,  4.33204737e-04,  4.25122279e-05])"
      ]
     },
     "metadata": {},
     "execution_count": 146
    }
   ],
   "source": [
    "ans"
   ]
  },
  {
   "cell_type": "code",
   "execution_count": 147,
   "metadata": {},
   "outputs": [
    {
     "output_type": "execute_result",
     "data": {
      "text/plain": [
       "2.4339353779808777"
      ]
     },
     "metadata": {},
     "execution_count": 147
    }
   ],
   "source": [
    "objective(ans)"
   ]
  },
  {
   "cell_type": "code",
   "execution_count": null,
   "metadata": {},
   "outputs": [],
   "source": []
  }
 ]
}