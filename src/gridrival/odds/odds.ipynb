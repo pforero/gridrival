{
 "metadata": {
  "language_info": {
   "codemirror_mode": {
    "name": "ipython",
    "version": 3
   },
   "file_extension": ".py",
   "mimetype": "text/x-python",
   "name": "python",
   "nbconvert_exporter": "python",
   "pygments_lexer": "ipython3",
   "version": "3.9.2-final"
  },
  "orig_nbformat": 2,
  "kernelspec": {
   "name": "python3",
   "display_name": "Python 3.9.2 64-bit ('gridrival': conda)",
   "metadata": {
    "interpreter": {
     "hash": "e4478d622c45fb345fdc11753a3aa54b5aa949edc72b6768c085ca8d961d3126"
    }
   }
  }
 },
 "nbformat": 4,
 "nbformat_minor": 2,
 "cells": [
  {
   "cell_type": "code",
   "execution_count": 52,
   "metadata": {},
   "outputs": [],
   "source": [
    "import sys\n",
    "import copy\n",
    "import pandas as pd"
   ]
  },
  {
   "cell_type": "code",
   "execution_count": 3,
   "metadata": {},
   "outputs": [],
   "source": [
    "sys.path.append(\".\")"
   ]
  },
  {
   "cell_type": "code",
   "execution_count": 5,
   "metadata": {},
   "outputs": [],
   "source": [
    "from odds import QUAL_1, TOP_1, TOP_10, TOP_3, TOP_6"
   ]
  },
  {
   "cell_type": "code",
   "execution_count": 6,
   "metadata": {},
   "outputs": [
    {
     "output_type": "execute_result",
     "data": {
      "text/plain": [
       "{'L. Hamilton': 2.5,\n",
       " 'M. Verstappen': 2.37,\n",
       " 'V. Bottas': 6,\n",
       " 'S. Perez': 9,\n",
       " 'D. Ricciardo': 26,\n",
       " 'L. Norris': 34,\n",
       " 'P. Gasly': 51,\n",
       " 'S. Vettel': 101,\n",
       " 'L. Stroll': 101,\n",
       " 'C. Leclerc': 101,\n",
       " 'F. Alonso': 151,\n",
       " 'C. Sainz Jr': 151,\n",
       " 'E. Ocon': 151,\n",
       " 'Y. Tsunoda': 126,\n",
       " 'G. Russell': 1001,\n",
       " 'K. Raikkonen': 1001,\n",
       " 'A. Giovinazzi': 1001,\n",
       " 'N. Latifi': 3001,\n",
       " 'M. Schumacher': 3001,\n",
       " 'N. Mazepin': 3001}"
      ]
     },
     "metadata": {},
     "execution_count": 6
    }
   ],
   "source": [
    "QUAL_1"
   ]
  },
  {
   "cell_type": "code",
   "execution_count": 22,
   "metadata": {},
   "outputs": [],
   "source": [
    "QUAL_ODDS = pd.Series({driver: 1/odds*100 for driver, odds in QUAL_1.items()})"
   ]
  },
  {
   "cell_type": "code",
   "execution_count": 23,
   "metadata": {},
   "outputs": [],
   "source": [
    "TRUE_ODDS = QUAL_ODDS/sum(QUAL_ODDS)"
   ]
  },
  {
   "cell_type": "code",
   "execution_count": 24,
   "metadata": {},
   "outputs": [
    {
     "output_type": "execute_result",
     "data": {
      "text/plain": [
       "L. Hamilton      0.320332\n",
       "M. Verstappen    0.337903\n",
       "V. Bottas        0.133472\n",
       "S. Perez         0.088981\n",
       "D. Ricciardo     0.030801\n",
       "L. Norris        0.023554\n",
       "P. Gasly         0.015703\n",
       "S. Vettel        0.007929\n",
       "L. Stroll        0.007929\n",
       "C. Leclerc       0.007929\n",
       "F. Alonso        0.005304\n",
       "C. Sainz Jr      0.005304\n",
       "E. Ocon          0.005304\n",
       "Y. Tsunoda       0.006356\n",
       "G. Russell       0.000800\n",
       "K. Raikkonen     0.000800\n",
       "A. Giovinazzi    0.000800\n",
       "N. Latifi        0.000267\n",
       "M. Schumacher    0.000267\n",
       "N. Mazepin       0.000267\n",
       "dtype: float64"
      ]
     },
     "metadata": {},
     "execution_count": 24
    }
   ],
   "source": [
    "TRUE_ODDS"
   ]
  },
  {
   "cell_type": "code",
   "execution_count": 25,
   "metadata": {},
   "outputs": [],
   "source": [
    "FIRST_ODDS = TRUE_ODDS"
   ]
  },
  {
   "cell_type": "code",
   "execution_count": 55,
   "metadata": {},
   "outputs": [],
   "source": [
    "SECOND_ODDS = FIRST_ODDS * 0\n",
    "for index, prob in FIRST_ODDS.iteritems():\n",
    "    sec_odds = copy.copy(FIRST_ODDS)\n",
    "    sec_odds[index] = 0\n",
    "    norm_odds = (sec_odds/sum(sec_odds))*prob\n",
    "    SECOND_ODDS += norm_odds"
   ]
  },
  {
   "cell_type": "code",
   "execution_count": 58,
   "metadata": {},
   "outputs": [
    {
     "output_type": "execute_result",
     "data": {
      "text/plain": [
       "L. Hamilton      0.283008\n",
       "M. Verstappen    0.285338\n",
       "V. Bottas        0.160267\n",
       "S. Perez         0.111860\n",
       "D. Ricciardo     0.040750\n",
       "L. Norris        0.031342\n",
       "P. Gasly         0.021023\n",
       "S. Vettel        0.010679\n",
       "L. Stroll        0.010679\n",
       "C. Leclerc       0.010679\n",
       "F. Alonso        0.007157\n",
       "C. Sainz Jr      0.007157\n",
       "E. Ocon          0.007157\n",
       "Y. Tsunoda       0.008570\n",
       "G. Russell       0.001083\n",
       "K. Raikkonen     0.001083\n",
       "A. Giovinazzi    0.001083\n",
       "N. Latifi        0.000361\n",
       "M. Schumacher    0.000361\n",
       "N. Mazepin       0.000361\n",
       "dtype: float64"
      ]
     },
     "metadata": {},
     "execution_count": 58
    }
   ],
   "source": [
    "SECOND_ODDS"
   ]
  },
  {
   "cell_type": "code",
   "execution_count": null,
   "metadata": {},
   "outputs": [],
   "source": []
  }
 ]
}