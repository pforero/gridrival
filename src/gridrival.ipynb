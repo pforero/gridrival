{
 "metadata": {
  "language_info": {
   "codemirror_mode": {
    "name": "ipython",
    "version": 3
   },
   "file_extension": ".py",
   "mimetype": "text/x-python",
   "name": "python",
   "nbconvert_exporter": "python",
   "pygments_lexer": "ipython3",
   "version": "3.7.10"
  },
  "orig_nbformat": 2,
  "kernelspec": {
   "name": "python3",
   "display_name": "Python 3",
   "language": "python"
  }
 },
 "nbformat": 4,
 "nbformat_minor": 2,
 "cells": [
  {
   "source": [
    "# Grid Rival"
   ],
   "cell_type": "markdown",
   "metadata": {}
  },
  {
   "cell_type": "code",
   "execution_count": 1,
   "metadata": {},
   "outputs": [],
   "source": [
    "import copy\n",
    "import pandas as pd\n",
    "import numpy as np"
   ]
  },
  {
   "cell_type": "code",
   "execution_count": 2,
   "metadata": {},
   "outputs": [],
   "source": [
    "from itertools import combinations, product"
   ]
  },
  {
   "cell_type": "code",
   "execution_count": 17,
   "metadata": {},
   "outputs": [],
   "source": [
    "from gridrival.probabilities import GridProbabilities\n",
    "from gridrival.probabilities.betting_odds import WinningOdds, TOP_1\n",
    "from gridrival.drivers import DRIVERS, PGasly, CSainz, YTsunoda, GRUssell, MVerstappen\n",
    "from gridrival.fantasy import FantasyTeam\n",
    "from gridrival.teams import TEAMS, Ferrari"
   ]
  },
  {
   "cell_type": "code",
   "execution_count": 4,
   "metadata": {},
   "outputs": [],
   "source": [
    "Top1Odds = WinningOdds(pd.Series(TOP_1))"
   ]
  },
  {
   "cell_type": "code",
   "execution_count": 5,
   "metadata": {},
   "outputs": [],
   "source": [
    "Prob = GridProbabilities(Top1Odds.naive_grid())"
   ]
  },
  {
   "cell_type": "code",
   "execution_count": 6,
   "metadata": {},
   "outputs": [],
   "source": [
    "for driver in DRIVERS:\n",
    "    driver.probabilities = Prob.driver_probabilities(driver.name)"
   ]
  },
  {
   "cell_type": "code",
   "execution_count": 7,
   "metadata": {},
   "outputs": [],
   "source": [
    "fixed_drivers = [driver.to_fixed_info() for driver in DRIVERS]\n",
    "fixed_teams = [team.to_fixed_info() for team in TEAMS]"
   ]
  },
  {
   "cell_type": "code",
   "execution_count": 26,
   "metadata": {},
   "outputs": [],
   "source": [
    "universe = product(combinations(fixed_drivers, 5), fixed_teams)"
   ]
  },
  {
   "cell_type": "code",
   "execution_count": 27,
   "metadata": {},
   "outputs": [],
   "source": [
    "ft_universe = [FantasyTeam(comb[0], comb[1]) for comb in universe]"
   ]
  },
  {
   "cell_type": "code",
   "execution_count": 30,
   "metadata": {},
   "outputs": [],
   "source": [
    "budget_universe = [ft for ft in ft_universe if ft.cost() <= 103.4*1e6]"
   ]
  },
  {
   "cell_type": "code",
   "execution_count": 33,
   "metadata": {},
   "outputs": [],
   "source": [
    "constraint_universe = []\n",
    "\n",
    "for ft in budget_universe:\n",
    "\n",
    "    if any(in_element not in ft for in_element in [PGasly, Ferrari]):\n",
    "        continue\n",
    "    if any(out_element in ft for out_element in [MVerstappen, CSainz, YTsunoda, GRUssell]):\n",
    "        continue\n",
    "    constraint_universe.append(ft)"
   ]
  },
  {
   "cell_type": "code",
   "execution_count": 38,
   "metadata": {},
   "outputs": [],
   "source": [
    "restricted_universe = [team for team in ft_universe if PGasly in team and Ferrari in team and MVerstappen not in team and CSainz not in team and YTsunoda not in team and GRUssell not in team]"
   ]
  },
  {
   "cell_type": "code",
   "execution_count": 39,
   "metadata": {},
   "outputs": [],
   "source": [
    "budget_universe = [team for team in restricted_universe if team.cost() <= 103.4*1e6]"
   ]
  },
  {
   "cell_type": "code",
   "execution_count": 40,
   "metadata": {},
   "outputs": [
    {
     "output_type": "execute_result",
     "data": {
      "text/plain": [
       "692"
      ]
     },
     "metadata": {},
     "execution_count": 40
    }
   ],
   "source": [
    "len(constraint_universe)"
   ]
  },
  {
   "cell_type": "code",
   "execution_count": 41,
   "metadata": {},
   "outputs": [
    {
     "output_type": "execute_result",
     "data": {
      "text/plain": [
       "692"
      ]
     },
     "metadata": {},
     "execution_count": 41
    }
   ],
   "source": [
    "len(budget_universe)"
   ]
  },
  {
   "cell_type": "code",
   "execution_count": 35,
   "metadata": {},
   "outputs": [],
   "source": [
    "data = [\n",
    "    {\n",
    "        \"driver_1\": ft.drivers[0],\n",
    "        \"driver_2\": ft.drivers[1],\n",
    "        \"driver_3\": ft.drivers[2],\n",
    "        \"driver_4\": ft.drivers[3],\n",
    "        \"driver_5\": ft.drivers[4],\n",
    "        \"team\": ft.team,\n",
    "        \"talent_driver\": ft.talent_driver,\n",
    "        \"cost\": ft.cost(),\n",
    "        \"points\": ft.points(),\n",
    "    }\n",
    "    for ft in constraint_universe\n",
    "]"
   ]
  },
  {
   "cell_type": "code",
   "execution_count": 36,
   "metadata": {},
   "outputs": [],
   "source": [
    "df = pd.DataFrame(data)"
   ]
  },
  {
   "cell_type": "code",
   "execution_count": 37,
   "metadata": {},
   "outputs": [
    {
     "output_type": "execute_result",
     "data": {
      "text/plain": [
       "      driver_1       driver_2       driver_3       driver_4       driver_5  \\\n",
       "177   S. Perez   D. Ricciardo       P. Gasly        E. Ocon      N. Latifi   \n",
       "81   V. Bottas   D. Ricciardo       P. Gasly        E. Ocon     N. Mazepin   \n",
       "206   S. Perez      L. Norris       P. Gasly        E. Ocon      N. Latifi   \n",
       "176   S. Perez   D. Ricciardo      L. Stroll       P. Gasly     N. Mazepin   \n",
       "103  V. Bottas      L. Norris       P. Gasly        E. Ocon     N. Mazepin   \n",
       "..         ...            ...            ...            ...            ...   \n",
       "688   P. Gasly   K. Raikkonen  A. Giovinazzi      N. Latifi     N. Mazepin   \n",
       "687   P. Gasly   K. Raikkonen  A. Giovinazzi      N. Latifi  M. Schumacher   \n",
       "689   P. Gasly   K. Raikkonen  A. Giovinazzi  M. Schumacher     N. Mazepin   \n",
       "691   P. Gasly  A. Giovinazzi      N. Latifi  M. Schumacher     N. Mazepin   \n",
       "690   P. Gasly   K. Raikkonen      N. Latifi  M. Schumacher     N. Mazepin   \n",
       "\n",
       "        team talent_driver         cost      points  \n",
       "177  Ferrari      P. Gasly  102900000.0  911.362117  \n",
       "81   Ferrari      P. Gasly  101900000.0  910.925363  \n",
       "206  Ferrari      P. Gasly  103000000.0  910.773338  \n",
       "176  Ferrari      P. Gasly  103200000.0  910.339654  \n",
       "103  Ferrari      P. Gasly  102000000.0  910.336584  \n",
       "..       ...           ...          ...         ...  \n",
       "688  Ferrari      P. Gasly   67500000.0  792.431719  \n",
       "687  Ferrari      P. Gasly   70100000.0  785.907204  \n",
       "689  Ferrari      P. Gasly   67700000.0  782.657330  \n",
       "691  Ferrari      P. Gasly   60500000.0  777.151301  \n",
       "690  Ferrari      P. Gasly   63300000.0  776.170513  \n",
       "\n",
       "[692 rows x 9 columns]"
      ],
      "text/html": "<div>\n<style scoped>\n    .dataframe tbody tr th:only-of-type {\n        vertical-align: middle;\n    }\n\n    .dataframe tbody tr th {\n        vertical-align: top;\n    }\n\n    .dataframe thead th {\n        text-align: right;\n    }\n</style>\n<table border=\"1\" class=\"dataframe\">\n  <thead>\n    <tr style=\"text-align: right;\">\n      <th></th>\n      <th>driver_1</th>\n      <th>driver_2</th>\n      <th>driver_3</th>\n      <th>driver_4</th>\n      <th>driver_5</th>\n      <th>team</th>\n      <th>talent_driver</th>\n      <th>cost</th>\n      <th>points</th>\n    </tr>\n  </thead>\n  <tbody>\n    <tr>\n      <th>177</th>\n      <td>S. Perez</td>\n      <td>D. Ricciardo</td>\n      <td>P. Gasly</td>\n      <td>E. Ocon</td>\n      <td>N. Latifi</td>\n      <td>Ferrari</td>\n      <td>P. Gasly</td>\n      <td>102900000.0</td>\n      <td>911.362117</td>\n    </tr>\n    <tr>\n      <th>81</th>\n      <td>V. Bottas</td>\n      <td>D. Ricciardo</td>\n      <td>P. Gasly</td>\n      <td>E. Ocon</td>\n      <td>N. Mazepin</td>\n      <td>Ferrari</td>\n      <td>P. Gasly</td>\n      <td>101900000.0</td>\n      <td>910.925363</td>\n    </tr>\n    <tr>\n      <th>206</th>\n      <td>S. Perez</td>\n      <td>L. Norris</td>\n      <td>P. Gasly</td>\n      <td>E. Ocon</td>\n      <td>N. Latifi</td>\n      <td>Ferrari</td>\n      <td>P. Gasly</td>\n      <td>103000000.0</td>\n      <td>910.773338</td>\n    </tr>\n    <tr>\n      <th>176</th>\n      <td>S. Perez</td>\n      <td>D. Ricciardo</td>\n      <td>L. Stroll</td>\n      <td>P. Gasly</td>\n      <td>N. Mazepin</td>\n      <td>Ferrari</td>\n      <td>P. Gasly</td>\n      <td>103200000.0</td>\n      <td>910.339654</td>\n    </tr>\n    <tr>\n      <th>103</th>\n      <td>V. Bottas</td>\n      <td>L. Norris</td>\n      <td>P. Gasly</td>\n      <td>E. Ocon</td>\n      <td>N. Mazepin</td>\n      <td>Ferrari</td>\n      <td>P. Gasly</td>\n      <td>102000000.0</td>\n      <td>910.336584</td>\n    </tr>\n    <tr>\n      <th>...</th>\n      <td>...</td>\n      <td>...</td>\n      <td>...</td>\n      <td>...</td>\n      <td>...</td>\n      <td>...</td>\n      <td>...</td>\n      <td>...</td>\n      <td>...</td>\n    </tr>\n    <tr>\n      <th>688</th>\n      <td>P. Gasly</td>\n      <td>K. Raikkonen</td>\n      <td>A. Giovinazzi</td>\n      <td>N. Latifi</td>\n      <td>N. Mazepin</td>\n      <td>Ferrari</td>\n      <td>P. Gasly</td>\n      <td>67500000.0</td>\n      <td>792.431719</td>\n    </tr>\n    <tr>\n      <th>687</th>\n      <td>P. Gasly</td>\n      <td>K. Raikkonen</td>\n      <td>A. Giovinazzi</td>\n      <td>N. Latifi</td>\n      <td>M. Schumacher</td>\n      <td>Ferrari</td>\n      <td>P. Gasly</td>\n      <td>70100000.0</td>\n      <td>785.907204</td>\n    </tr>\n    <tr>\n      <th>689</th>\n      <td>P. Gasly</td>\n      <td>K. Raikkonen</td>\n      <td>A. Giovinazzi</td>\n      <td>M. Schumacher</td>\n      <td>N. Mazepin</td>\n      <td>Ferrari</td>\n      <td>P. Gasly</td>\n      <td>67700000.0</td>\n      <td>782.657330</td>\n    </tr>\n    <tr>\n      <th>691</th>\n      <td>P. Gasly</td>\n      <td>A. Giovinazzi</td>\n      <td>N. Latifi</td>\n      <td>M. Schumacher</td>\n      <td>N. Mazepin</td>\n      <td>Ferrari</td>\n      <td>P. Gasly</td>\n      <td>60500000.0</td>\n      <td>777.151301</td>\n    </tr>\n    <tr>\n      <th>690</th>\n      <td>P. Gasly</td>\n      <td>K. Raikkonen</td>\n      <td>N. Latifi</td>\n      <td>M. Schumacher</td>\n      <td>N. Mazepin</td>\n      <td>Ferrari</td>\n      <td>P. Gasly</td>\n      <td>63300000.0</td>\n      <td>776.170513</td>\n    </tr>\n  </tbody>\n</table>\n<p>692 rows × 9 columns</p>\n</div>"
     },
     "metadata": {},
     "execution_count": 37
    }
   ],
   "source": [
    "df[df[\"cost\"]<=103.4*1e6].sort_values(\"points\", ascending=False)"
   ]
  },
  {
   "cell_type": "code",
   "execution_count": null,
   "metadata": {},
   "outputs": [],
   "source": []
  }
 ]
}