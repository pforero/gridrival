{
 "metadata": {
  "language_info": {
   "codemirror_mode": {
    "name": "ipython",
    "version": 3
   },
   "file_extension": ".py",
   "mimetype": "text/x-python",
   "name": "python",
   "nbconvert_exporter": "python",
   "pygments_lexer": "ipython3",
   "version": "3.7.10"
  },
  "orig_nbformat": 2,
  "kernelspec": {
   "name": "python3",
   "display_name": "Python 3",
   "language": "python"
  }
 },
 "nbformat": 4,
 "nbformat_minor": 2,
 "cells": [
  {
   "source": [
    "# Grid Rival"
   ],
   "cell_type": "markdown",
   "metadata": {}
  },
  {
   "cell_type": "code",
   "execution_count": 1,
   "metadata": {},
   "outputs": [],
   "source": [
    "import copy\n",
    "import pandas as pd\n",
    "import numpy as np"
   ]
  },
  {
   "cell_type": "code",
   "execution_count": 2,
   "metadata": {},
   "outputs": [],
   "source": [
    "from gridrival.scoring import LeagueScoring\n",
    "from gridrival.probabilities import GridProbabilities\n",
    "from gridrival.probabilities.betting_odds import WinningOdds, TOP_1\n",
    "from gridrival.drivers import DRIVERS\n",
    "from gridrival.fantasy import FantasyTeam\n",
    "from gridrival.teams import TEAMS"
   ]
  },
  {
   "cell_type": "code",
   "execution_count": 3,
   "metadata": {},
   "outputs": [],
   "source": [
    "Top1Odds = WinningOdds(pd.Series(TOP_1))"
   ]
  },
  {
   "cell_type": "code",
   "execution_count": 4,
   "metadata": {},
   "outputs": [],
   "source": [
    "Prob = GridProbabilities(Top1Odds.naive_grid())"
   ]
  },
  {
   "cell_type": "code",
   "execution_count": 5,
   "metadata": {},
   "outputs": [],
   "source": [
    "for driver in DRIVERS:\n",
    "    driver.probabilities = Prob.driver_probabilities(driver.name)"
   ]
  },
  {
   "cell_type": "code",
   "execution_count": 6,
   "metadata": {},
   "outputs": [
    {
     "output_type": "execute_result",
     "data": {
      "text/plain": [
       "159.67203112004603"
      ]
     },
     "metadata": {},
     "execution_count": 6
    }
   ],
   "source": [
    "DRIVERS[0].points()"
   ]
  },
  {
   "cell_type": "code",
   "execution_count": 7,
   "metadata": {},
   "outputs": [],
   "source": [
    "DRIVERS[0].probabilities.qual=pd.Series(0, range(1,21))\n",
    "DRIVERS[0].probabilities.qual[2] = 1\n",
    "DRIVERS[0].probabilities.race=pd.Series(0, range(1,21))\n",
    "DRIVERS[0].probabilities.race[1] = 1\n",
    "DRIVERS[0].rank = 2\n",
    "DRIVERS[2].probabilities.qual=pd.Series(0, range(1,21))\n",
    "DRIVERS[2].probabilities.qual[3] = 1\n",
    "DRIVERS[2].probabilities.race=pd.Series(0, range(1,21))\n",
    "DRIVERS[2].probabilities.race[3] = 1\n",
    "DRIVERS[2].rank = 6"
   ]
  },
  {
   "cell_type": "code",
   "execution_count": 9,
   "metadata": {},
   "outputs": [
    {
     "output_type": "execute_result",
     "data": {
      "text/plain": [
       "167.0"
      ]
     },
     "metadata": {},
     "execution_count": 9
    }
   ],
   "source": [
    "DRIVERS[0].points()"
   ]
  },
  {
   "cell_type": "code",
   "execution_count": null,
   "metadata": {},
   "outputs": [],
   "source": []
  }
 ]
}